{
 "cells": [
  {
   "cell_type": "code",
   "execution_count": 1,
   "id": "04d1e436-f922-4306-960d-8de9f37d63ba",
   "metadata": {},
   "outputs": [],
   "source": [
    "# 1. Write a Python program to sort a list of tuples using Lambda.\n"
   ]
  },
  {
   "cell_type": "code",
   "execution_count": null,
   "id": "0e6b16d2-40a6-4de1-b178-a5f2b3e30ebc",
   "metadata": {},
   "outputs": [],
   "source": []
  },
  {
   "cell_type": "code",
   "execution_count": 1,
   "id": "260d44b1-1519-4200-9a30-ed7a462f99a1",
   "metadata": {},
   "outputs": [
    {
     "name": "stdout",
     "output_type": "stream",
     "text": [
      "[4, 6]\n"
     ]
    }
   ],
   "source": [
    "li = [4,5,6]\n",
    "ls = [4,7,6]\n",
    "cmmon = []\n",
    "for i in li:\n",
    "    for j in ls:\n",
    "        if i == j:\n",
    "            cmmon.append(i)\n",
    "print(cmmon)"
   ]
  },
  {
   "cell_type": "code",
   "execution_count": 3,
   "id": "cd04e286-9155-48e7-90f7-096fb491cc44",
   "metadata": {},
   "outputs": [
    {
     "name": "stdout",
     "output_type": "stream",
     "text": [
      "Common items: [4, 6]\n"
     ]
    }
   ],
   "source": [
    "li = [4, 5, 6]\n",
    "ls = [4, 7, 6]\n",
    "\n",
    "common = [i for i in li if i in ls]\n",
    "print(\"Common items:\", common)\n"
   ]
  },
  {
   "cell_type": "code",
   "execution_count": 7,
   "id": "a29be596-b3d6-466e-9f78-69ed4389a724",
   "metadata": {},
   "outputs": [
    {
     "data": {
      "text/plain": [
       "[5]"
      ]
     },
     "execution_count": 7,
     "metadata": {},
     "output_type": "execute_result"
    }
   ],
   "source": [
    "# program to get the difference between the two lists.\n",
    "\n",
    "li = [4, 5, 6]\n",
    "ls = [4, 7, 6]\n",
    "\n",
    "diff = [i for i in li if i not in ls]\n",
    "diff"
   ]
  },
  {
   "cell_type": "code",
   "execution_count": 13,
   "id": "45f27c2f-424b-4e85-a4fc-4174c615530b",
   "metadata": {},
   "outputs": [
    {
     "name": "stdout",
     "output_type": "stream",
     "text": [
      "{10: 4, 20: 4, 40: 2, 50: 2, 30: 1}\n"
     ]
    }
   ],
   "source": [
    "# program to get the frequency of the elements in a list.\n",
    "\n",
    "my_list = [10,10,10,10,20,20,20,20,40,40,50,50,30]\n",
    "# {10: 4, 20: 4, 40: 2, 50: 2, 30: 1}\n",
    "dic = {}\n",
    "\n",
    "for i in my_list:\n",
    "    dic[i] = dic.get(i, 0) + 1\n",
    "print(dic)"
   ]
  },
  {
   "cell_type": "code",
   "execution_count": null,
   "id": "99097bca-cf33-4097-8a72-51c5cafb5dd7",
   "metadata": {},
   "outputs": [],
   "source": [
    "# program to generate all permutations of a list in Python.\n",
    "\n",
    "# Input [1,2,3]  # 3 * 2 = 6 permutations\n",
    "# Output [(1, 2, 3), (1, 3, 2), (2, 1, 3), (2, 3, 1), (3, 1, 2), (3, 2, 1)]\n",
    "\n",
    "input = [1,2,3]\n",
    "\n"
   ]
  },
  {
   "cell_type": "code",
   "execution_count": 18,
   "id": "cb400d88-c3b1-4895-8189-a96ba0ae9678",
   "metadata": {},
   "outputs": [
    {
     "name": "stdout",
     "output_type": "stream",
     "text": [
      "[10, 20, 30, 50, 60, 40, 80]\n"
     ]
    }
   ],
   "source": [
    "# program to remove duplicates from a list.\n",
    "\n",
    "# Input \n",
    "# Output {40, 10, 80, 50, 20, 60, 30} \n",
    "\n",
    "a = [10,20,30,20,10,50,60,40,80,50,40]\n",
    "li = []\n",
    "for i in a:\n",
    "    if i not in li:\n",
    "        li.append(i)\n",
    "print(li)"
   ]
  },
  {
   "cell_type": "code",
   "execution_count": 23,
   "id": "54141256-a91e-4193-b679-d63e563fd1ff",
   "metadata": {},
   "outputs": [
    {
     "name": "stdout",
     "output_type": "stream",
     "text": [
      "[-8, -2, 0, 1, 2]\n"
     ]
    },
    {
     "data": {
      "text/plain": [
       "-2"
      ]
     },
     "execution_count": 23,
     "metadata": {},
     "output_type": "execute_result"
    }
   ],
   "source": [
    "# program to find the second smallest number in a list.\n",
    "\n",
    "# second_smallest([1, 2, -8, -2, 0])\n",
    "# output -2\n",
    "\n",
    "snd_smllest = [1, 2, -8, -2, 0]\n",
    "snd_smllest.sort()\n",
    "print(snd_smllest)\n",
    "snd_smllest[1]"
   ]
  },
  {
   "cell_type": "code",
   "execution_count": null,
   "id": "6684717d-50cb-45f6-9dcf-1d2e37147987",
   "metadata": {},
   "outputs": [],
   "source": []
  },
  {
   "cell_type": "code",
   "execution_count": null,
   "id": "0f65f409-e486-4c77-bb9a-9671b71188c6",
   "metadata": {},
   "outputs": [],
   "source": []
  },
  {
   "cell_type": "code",
   "execution_count": null,
   "id": "056b231d-6c55-43fb-9997-d807a83f299c",
   "metadata": {},
   "outputs": [],
   "source": []
  },
  {
   "cell_type": "code",
   "execution_count": null,
   "id": "355839df-4568-4dfc-a53e-692351e23c60",
   "metadata": {},
   "outputs": [],
   "source": []
  }
 ],
 "metadata": {
  "kernelspec": {
   "display_name": "Python 3 (ipykernel)",
   "language": "python",
   "name": "python3"
  },
  "language_info": {
   "codemirror_mode": {
    "name": "ipython",
    "version": 3
   },
   "file_extension": ".py",
   "mimetype": "text/x-python",
   "name": "python",
   "nbconvert_exporter": "python",
   "pygments_lexer": "ipython3",
   "version": "3.12.6"
  }
 },
 "nbformat": 4,
 "nbformat_minor": 5
}
